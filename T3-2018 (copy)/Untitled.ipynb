{
 "cells": [
  {
   "cell_type": "code",
   "execution_count": 8,
   "metadata": {},
   "outputs": [
    {
     "data": {
      "text/plain": [
       "0"
      ]
     },
     "execution_count": 8,
     "metadata": {},
     "output_type": "execute_result"
    }
   ],
   "source": [
    "import numpy as np\n",
    "#np.argmax(np.bincount([0, 4, 1], weights=[0.2, 0.2, 0.6]))\n",
    "np.argmax([10, 0, 1, 1 ,5])\n"
   ]
  },
  {
   "cell_type": "code",
   "execution_count": 12,
   "metadata": {},
   "outputs": [
    {
     "data": {
      "text/plain": [
       "5"
      ]
     },
     "execution_count": 12,
     "metadata": {},
     "output_type": "execute_result"
    }
   ],
   "source": [
    "ex = np.array([[0.9, 0.1], [0.8, 1.2], [4.4, 6.6]])\n",
    "np.argmax(ex)"
   ]
  },
  {
   "cell_type": "code",
   "execution_count": 13,
   "metadata": {},
   "outputs": [
    {
     "name": "stdout",
     "output_type": "stream",
     "text": [
      "[[0.9 0.1]\n",
      " [0.8 1.2]\n",
      " [4.4 6.6]]\n"
     ]
    }
   ],
   "source": [
    "print(ex)"
   ]
  },
  {
   "cell_type": "code",
   "execution_count": 18,
   "metadata": {
    "scrolled": false
   },
   "outputs": [
    {
     "data": {
      "text/plain": [
       "array([1, 1, 0, 0, 1, 2])"
      ]
     },
     "execution_count": 18,
     "metadata": {},
     "output_type": "execute_result"
    }
   ],
   "source": [
    "np.bincount([0, 4, 1, 5, 5])"
   ]
  },
  {
   "cell_type": "code",
   "execution_count": 19,
   "metadata": {},
   "outputs": [
    {
     "data": {
      "text/plain": [
       "array([0.2, 0.6, 0. , 0. , 0.2])"
      ]
     },
     "execution_count": 19,
     "metadata": {},
     "output_type": "execute_result"
    }
   ],
   "source": [
    "np.bincount([0, 4, 1], weights=[0.2, 0.2, 0.6])"
   ]
  },
  {
   "cell_type": "code",
   "execution_count": 22,
   "metadata": {},
   "outputs": [
    {
     "data": {
      "text/plain": [
       "array([1., 1., 0., 0., 1., 2.])"
      ]
     },
     "execution_count": 22,
     "metadata": {},
     "output_type": "execute_result"
    }
   ],
   "source": [
    "np.bincount([0, 4, 1, 5, 5], weights= [1, 1, 1, 1, 1])"
   ]
  },
  {
   "cell_type": "code",
   "execution_count": 23,
   "metadata": {},
   "outputs": [
    {
     "data": {
      "text/plain": [
       "array([2., 2., 0., 0., 2., 4.])"
      ]
     },
     "execution_count": 23,
     "metadata": {},
     "output_type": "execute_result"
    }
   ],
   "source": [
    "np.bincount([0, 4, 1, 5, 5], weights= [2, 2, 2, 2, 2])"
   ]
  },
  {
   "cell_type": "code",
   "execution_count": 26,
   "metadata": {},
   "outputs": [
    {
     "data": {
      "text/plain": [
       "array([1., 1., 0., 0., 1., 1., 0., 0., 0., 0., 1.])"
      ]
     },
     "execution_count": 26,
     "metadata": {},
     "output_type": "execute_result"
    }
   ],
   "source": [
    "np.bincount([0, 4, 1, 5, 10], weights= [1, 1, 1, 1, 1])"
   ]
  },
  {
   "cell_type": "code",
   "execution_count": 28,
   "metadata": {},
   "outputs": [
    {
     "data": {
      "text/plain": [
       "array([1., 0., 1., 0., 1., 1., 0., 0., 0., 0., 1.])"
      ]
     },
     "execution_count": 28,
     "metadata": {},
     "output_type": "execute_result"
    }
   ],
   "source": [
    "np.bincount([0, 4, 2.5, 5, 10], weights= [1, 1, 1, 1, 1])"
   ]
  },
  {
   "cell_type": "code",
   "execution_count": 29,
   "metadata": {},
   "outputs": [
    {
     "data": {
      "text/plain": [
       "array([1., 0., 1., 0., 1., 1., 0., 0., 0., 0., 1.])"
      ]
     },
     "execution_count": 29,
     "metadata": {},
     "output_type": "execute_result"
    }
   ],
   "source": [
    "np.bincount([0, 4, 2.5, 5, 10.5], weights= [1, 1, 1, 1, 1])"
   ]
  },
  {
   "cell_type": "code",
   "execution_count": 30,
   "metadata": {},
   "outputs": [
    {
     "data": {
      "text/plain": [
       "array([1, 0, 1, 0, 1, 1, 0, 0, 0, 0, 1])"
      ]
     },
     "execution_count": 30,
     "metadata": {},
     "output_type": "execute_result"
    }
   ],
   "source": [
    "np.bincount([0, 4, 2.5, 5, 10])"
   ]
  },
  {
   "cell_type": "code",
   "execution_count": 32,
   "metadata": {},
   "outputs": [
    {
     "data": {
      "text/plain": [
       "array([1, 0, 1, 0, 1, 1, 0, 0, 0, 0, 1])"
      ]
     },
     "execution_count": 32,
     "metadata": {},
     "output_type": "execute_result"
    }
   ],
   "source": [
    "np.bincount([0, 4, 2.5, 5, 10.5])"
   ]
  },
  {
   "cell_type": "code",
   "execution_count": 34,
   "metadata": {},
   "outputs": [
    {
     "data": {
      "text/plain": [
       "array([0., 2., 0., 0., 2.])"
      ]
     },
     "execution_count": 34,
     "metadata": {},
     "output_type": "execute_result"
    }
   ],
   "source": [
    "np.bincount([1,1,4], weights=[1,1,2])"
   ]
  },
  {
   "cell_type": "code",
   "execution_count": 35,
   "metadata": {},
   "outputs": [
    {
     "data": {
      "text/plain": [
       "array([0. , 2. , 0. , 0. , 0.5])"
      ]
     },
     "execution_count": 35,
     "metadata": {},
     "output_type": "execute_result"
    }
   ],
   "source": [
    "np.bincount([1,1,4], weights=[1,1,0.5])"
   ]
  },
  {
   "cell_type": "code",
   "execution_count": 36,
   "metadata": {},
   "outputs": [
    {
     "data": {
      "text/plain": [
       "array([0. , 2. , 2. , 0. , 0. , 1. , 0.5, 0. , 4. ])"
      ]
     },
     "execution_count": 36,
     "metadata": {},
     "output_type": "execute_result"
    }
   ],
   "source": [
    "np.bincount([1, 2, 5, 6, 2, 1, 8, 8, 8], weights = [1, 1, 1, 0.5, 1, 1, 1, 1, 2])"
   ]
  },
  {
   "cell_type": "code",
   "execution_count": 37,
   "metadata": {},
   "outputs": [
    {
     "name": "stdout",
     "output_type": "stream",
     "text": [
      "[1 1 4 2 1]\n"
     ]
    }
   ],
   "source": [
    "import numpy as np\n",
    "l = np.array([1, 2, 1, 4, 1])\n",
    "ll = np.random.choice(l, size=l.shape, replace=False)\n",
    "print(ll)"
   ]
  },
  {
   "cell_type": "code",
   "execution_count": 46,
   "metadata": {},
   "outputs": [
    {
     "name": "stdout",
     "output_type": "stream",
     "text": [
      "[2 4 1 1]\n"
     ]
    }
   ],
   "source": [
    "import numpy as np\n",
    "l = np.array([1, 2, 1, 4, 1])\n",
    "ll = np.random.choice(l, size=4, replace=False)\n",
    "print(ll)"
   ]
  },
  {
   "cell_type": "code",
   "execution_count": 47,
   "metadata": {},
   "outputs": [
    {
     "name": "stdout",
     "output_type": "stream",
     "text": [
      "[2 1 4]\n"
     ]
    }
   ],
   "source": [
    "import numpy as np\n",
    "l = np.array([1, 2, 1, 4, 1])\n",
    "ll = np.random.choice(l, size=3, replace=False)\n",
    "print(ll)"
   ]
  },
  {
   "cell_type": "code",
   "execution_count": 48,
   "metadata": {},
   "outputs": [
    {
     "data": {
      "text/plain": [
       "'iris.pdf'"
      ]
     },
     "execution_count": 48,
     "metadata": {},
     "output_type": "execute_result"
    }
   ],
   "source": [
    "from sklearn.datasets import load_iris\n",
    "from sklearn import tree\n",
    "iris = load_iris()\n",
    "clf = tree.DecisionTreeClassifier()\n",
    "clf = clf.fit(iris.data, iris.target) # iris.data == features, iris.target == labels. fit() ajusta o modelo.\n",
    "import graphviz\n",
    "dot_data = tree.export_graphviz(clf, out_file=None)\n",
    "graph = graphviz.Source(dot_data)\n",
    "graph.render(\"iris\")"
   ]
  },
  {
   "cell_type": "code",
   "execution_count": 54,
   "metadata": {},
   "outputs": [],
   "source": [
    "from sklearn.datasets import load_iris\n",
    "from sklearn import tree\n",
    "iris = load_iris()\n",
    "clf = tree.DecisionTreeClassifier()\n",
    "clf = clf.fit(iris.data, iris.target)\n"
   ]
  },
  {
   "cell_type": "code",
   "execution_count": 68,
   "metadata": {},
   "outputs": [
    {
     "name": "stdout",
     "output_type": "stream",
     "text": [
      "(150, 4)\n"
     ]
    }
   ],
   "source": [
    "print(np.shape(iris.data))"
   ]
  },
  {
   "cell_type": "code",
   "execution_count": 70,
   "metadata": {},
   "outputs": [
    {
     "data": {
      "text/plain": [
       "array([5.9, 3. , 5.1, 1.8])"
      ]
     },
     "execution_count": 70,
     "metadata": {},
     "output_type": "execute_result"
    }
   ],
   "source": [
    "iris.data[149, :]"
   ]
  },
  {
   "cell_type": "code",
   "execution_count": 61,
   "metadata": {},
   "outputs": [
    {
     "data": {
      "text/plain": [
       "array([5.4, 3.9, 1.7, 0.4])"
      ]
     },
     "execution_count": 61,
     "metadata": {},
     "output_type": "execute_result"
    }
   ],
   "source": [
    "iris.data[5, :]"
   ]
  },
  {
   "cell_type": "code",
   "execution_count": 72,
   "metadata": {},
   "outputs": [
    {
     "data": {
      "text/plain": [
       "array([0, 0, 0, 0, 0, 0, 0, 0, 0, 0])"
      ]
     },
     "execution_count": 72,
     "metadata": {},
     "output_type": "execute_result"
    }
   ],
   "source": [
    "clf.predict(iris.data[:10, :]) "
   ]
  },
  {
   "cell_type": "code",
   "execution_count": 58,
   "metadata": {},
   "outputs": [
    {
     "data": {
      "text/plain": [
       "110"
      ]
     },
     "execution_count": 58,
     "metadata": {},
     "output_type": "execute_result"
    }
   ],
   "source": [
    "np.sum(clf.predict(iris.data[:130, :]) ) "
   ]
  },
  {
   "cell_type": "code",
   "execution_count": 65,
   "metadata": {},
   "outputs": [
    {
     "data": {
      "text/plain": [
       "array([[1., 0., 0.]])"
      ]
     },
     "execution_count": 65,
     "metadata": {},
     "output_type": "execute_result"
    }
   ],
   "source": [
    "# Alternatively, the probability of each class can be predicted, which is the fraction of training samples of the same class in a leaf\n",
    "clf.predict_proba(iris.data[:1, :])"
   ]
  },
  {
   "cell_type": "code",
   "execution_count": 73,
   "metadata": {},
   "outputs": [
    {
     "data": {
      "text/html": [
       "<div>\n",
       "<style scoped>\n",
       "    .dataframe tbody tr th:only-of-type {\n",
       "        vertical-align: middle;\n",
       "    }\n",
       "\n",
       "    .dataframe tbody tr th {\n",
       "        vertical-align: top;\n",
       "    }\n",
       "\n",
       "    .dataframe thead th {\n",
       "        text-align: right;\n",
       "    }\n",
       "</style>\n",
       "<table border=\"1\" class=\"dataframe\">\n",
       "  <thead>\n",
       "    <tr style=\"text-align: right;\">\n",
       "      <th></th>\n",
       "      <th>0</th>\n",
       "      <th>1</th>\n",
       "      <th>2</th>\n",
       "      <th>3</th>\n",
       "      <th>4</th>\n",
       "      <th>5</th>\n",
       "      <th>6</th>\n",
       "      <th>7</th>\n",
       "      <th>8</th>\n",
       "      <th>9</th>\n",
       "      <th>Y</th>\n",
       "    </tr>\n",
       "  </thead>\n",
       "  <tbody>\n",
       "    <tr>\n",
       "      <th>0</th>\n",
       "      <td>-0.870716</td>\n",
       "      <td>-2.540629</td>\n",
       "      <td>-0.025814</td>\n",
       "      <td>-1.016499</td>\n",
       "      <td>-0.287056</td>\n",
       "      <td>0.229706</td>\n",
       "      <td>-0.924571</td>\n",
       "      <td>-1.972375</td>\n",
       "      <td>0.814403</td>\n",
       "      <td>2.117970</td>\n",
       "      <td>1.0</td>\n",
       "    </tr>\n",
       "    <tr>\n",
       "      <th>1</th>\n",
       "      <td>0.143591</td>\n",
       "      <td>-1.048010</td>\n",
       "      <td>1.980638</td>\n",
       "      <td>1.199602</td>\n",
       "      <td>0.083958</td>\n",
       "      <td>-1.017653</td>\n",
       "      <td>0.451292</td>\n",
       "      <td>-0.503159</td>\n",
       "      <td>-1.039166</td>\n",
       "      <td>-1.073902</td>\n",
       "      <td>1.0</td>\n",
       "    </tr>\n",
       "    <tr>\n",
       "      <th>2</th>\n",
       "      <td>-0.085304</td>\n",
       "      <td>0.353876</td>\n",
       "      <td>-1.754705</td>\n",
       "      <td>1.243128</td>\n",
       "      <td>-0.914868</td>\n",
       "      <td>0.305403</td>\n",
       "      <td>-2.510571</td>\n",
       "      <td>0.756657</td>\n",
       "      <td>0.154306</td>\n",
       "      <td>0.096940</td>\n",
       "      <td>1.0</td>\n",
       "    </tr>\n",
       "    <tr>\n",
       "      <th>3</th>\n",
       "      <td>-0.079525</td>\n",
       "      <td>-1.175333</td>\n",
       "      <td>0.178160</td>\n",
       "      <td>-0.074989</td>\n",
       "      <td>1.037825</td>\n",
       "      <td>-1.329029</td>\n",
       "      <td>-0.369398</td>\n",
       "      <td>0.011653</td>\n",
       "      <td>-0.078158</td>\n",
       "      <td>-0.857947</td>\n",
       "      <td>-1.0</td>\n",
       "    </tr>\n",
       "    <tr>\n",
       "      <th>4</th>\n",
       "      <td>-0.271138</td>\n",
       "      <td>1.870843</td>\n",
       "      <td>-0.946545</td>\n",
       "      <td>0.906102</td>\n",
       "      <td>0.008632</td>\n",
       "      <td>0.623932</td>\n",
       "      <td>-0.247917</td>\n",
       "      <td>0.679114</td>\n",
       "      <td>-2.093285</td>\n",
       "      <td>-0.425398</td>\n",
       "      <td>1.0</td>\n",
       "    </tr>\n",
       "    <tr>\n",
       "      <th>5</th>\n",
       "      <td>-1.892867</td>\n",
       "      <td>0.255265</td>\n",
       "      <td>-1.957443</td>\n",
       "      <td>-1.564878</td>\n",
       "      <td>0.789182</td>\n",
       "      <td>-0.921502</td>\n",
       "      <td>0.319279</td>\n",
       "      <td>-0.964341</td>\n",
       "      <td>1.251592</td>\n",
       "      <td>1.227638</td>\n",
       "      <td>1.0</td>\n",
       "    </tr>\n",
       "    <tr>\n",
       "      <th>6</th>\n",
       "      <td>-1.105377</td>\n",
       "      <td>-1.173451</td>\n",
       "      <td>1.108833</td>\n",
       "      <td>-0.685181</td>\n",
       "      <td>-1.392090</td>\n",
       "      <td>-0.780494</td>\n",
       "      <td>-1.084546</td>\n",
       "      <td>0.581325</td>\n",
       "      <td>1.096738</td>\n",
       "      <td>1.412062</td>\n",
       "      <td>1.0</td>\n",
       "    </tr>\n",
       "    <tr>\n",
       "      <th>7</th>\n",
       "      <td>-1.768469</td>\n",
       "      <td>-0.115585</td>\n",
       "      <td>1.989001</td>\n",
       "      <td>-0.835394</td>\n",
       "      <td>-0.046989</td>\n",
       "      <td>0.978338</td>\n",
       "      <td>0.947251</td>\n",
       "      <td>0.185964</td>\n",
       "      <td>1.895223</td>\n",
       "      <td>-0.253843</td>\n",
       "      <td>1.0</td>\n",
       "    </tr>\n",
       "    <tr>\n",
       "      <th>8</th>\n",
       "      <td>1.590165</td>\n",
       "      <td>0.559940</td>\n",
       "      <td>1.282899</td>\n",
       "      <td>0.120685</td>\n",
       "      <td>-0.856146</td>\n",
       "      <td>-0.525670</td>\n",
       "      <td>0.937304</td>\n",
       "      <td>-0.484446</td>\n",
       "      <td>0.899186</td>\n",
       "      <td>-0.378364</td>\n",
       "      <td>-1.0</td>\n",
       "    </tr>\n",
       "    <tr>\n",
       "      <th>9</th>\n",
       "      <td>0.118249</td>\n",
       "      <td>0.045123</td>\n",
       "      <td>-0.979277</td>\n",
       "      <td>-0.102409</td>\n",
       "      <td>-0.572871</td>\n",
       "      <td>-0.580442</td>\n",
       "      <td>-2.198135</td>\n",
       "      <td>-0.172744</td>\n",
       "      <td>0.834864</td>\n",
       "      <td>-0.509731</td>\n",
       "      <td>-1.0</td>\n",
       "    </tr>\n",
       "    <tr>\n",
       "      <th>10</th>\n",
       "      <td>0.085387</td>\n",
       "      <td>0.823020</td>\n",
       "      <td>-1.242599</td>\n",
       "      <td>1.706867</td>\n",
       "      <td>-0.308785</td>\n",
       "      <td>-0.352421</td>\n",
       "      <td>-2.096432</td>\n",
       "      <td>1.060285</td>\n",
       "      <td>-0.030738</td>\n",
       "      <td>0.305210</td>\n",
       "      <td>1.0</td>\n",
       "    </tr>\n",
       "    <tr>\n",
       "      <th>11</th>\n",
       "      <td>0.081933</td>\n",
       "      <td>-1.207133</td>\n",
       "      <td>-0.691949</td>\n",
       "      <td>0.059042</td>\n",
       "      <td>0.995750</td>\n",
       "      <td>1.761372</td>\n",
       "      <td>0.090681</td>\n",
       "      <td>-0.364114</td>\n",
       "      <td>-0.081609</td>\n",
       "      <td>-1.232924</td>\n",
       "      <td>-1.0</td>\n",
       "    </tr>\n",
       "    <tr>\n",
       "      <th>12</th>\n",
       "      <td>-1.301161</td>\n",
       "      <td>1.247218</td>\n",
       "      <td>0.574812</td>\n",
       "      <td>0.832306</td>\n",
       "      <td>-0.666556</td>\n",
       "      <td>1.774307</td>\n",
       "      <td>0.682111</td>\n",
       "      <td>-1.358186</td>\n",
       "      <td>0.564570</td>\n",
       "      <td>-0.660248</td>\n",
       "      <td>1.0</td>\n",
       "    </tr>\n",
       "    <tr>\n",
       "      <th>13</th>\n",
       "      <td>0.353311</td>\n",
       "      <td>0.500582</td>\n",
       "      <td>-0.280482</td>\n",
       "      <td>-0.514886</td>\n",
       "      <td>-0.300380</td>\n",
       "      <td>-0.619996</td>\n",
       "      <td>0.376675</td>\n",
       "      <td>-1.668351</td>\n",
       "      <td>-2.069383</td>\n",
       "      <td>0.470420</td>\n",
       "      <td>-1.0</td>\n",
       "    </tr>\n",
       "    <tr>\n",
       "      <th>14</th>\n",
       "      <td>-0.604706</td>\n",
       "      <td>-0.219140</td>\n",
       "      <td>-1.182709</td>\n",
       "      <td>-1.062888</td>\n",
       "      <td>0.024115</td>\n",
       "      <td>-0.050354</td>\n",
       "      <td>0.208363</td>\n",
       "      <td>0.106397</td>\n",
       "      <td>0.409322</td>\n",
       "      <td>1.418429</td>\n",
       "      <td>-1.0</td>\n",
       "    </tr>\n",
       "    <tr>\n",
       "      <th>15</th>\n",
       "      <td>2.470850</td>\n",
       "      <td>0.196626</td>\n",
       "      <td>1.773588</td>\n",
       "      <td>-0.783472</td>\n",
       "      <td>-0.052601</td>\n",
       "      <td>0.247663</td>\n",
       "      <td>-0.439570</td>\n",
       "      <td>-1.046484</td>\n",
       "      <td>-1.056706</td>\n",
       "      <td>-0.047539</td>\n",
       "      <td>1.0</td>\n",
       "    </tr>\n",
       "    <tr>\n",
       "      <th>16</th>\n",
       "      <td>-0.261013</td>\n",
       "      <td>-0.344306</td>\n",
       "      <td>1.537451</td>\n",
       "      <td>1.200087</td>\n",
       "      <td>1.270726</td>\n",
       "      <td>-1.844427</td>\n",
       "      <td>0.211617</td>\n",
       "      <td>-0.669065</td>\n",
       "      <td>-0.939060</td>\n",
       "      <td>-0.202554</td>\n",
       "      <td>1.0</td>\n",
       "    </tr>\n",
       "    <tr>\n",
       "      <th>17</th>\n",
       "      <td>-0.894386</td>\n",
       "      <td>0.968009</td>\n",
       "      <td>0.270891</td>\n",
       "      <td>1.797655</td>\n",
       "      <td>-0.931417</td>\n",
       "      <td>1.709680</td>\n",
       "      <td>2.186237</td>\n",
       "      <td>1.312037</td>\n",
       "      <td>0.108436</td>\n",
       "      <td>0.685091</td>\n",
       "      <td>1.0</td>\n",
       "    </tr>\n",
       "    <tr>\n",
       "      <th>18</th>\n",
       "      <td>-0.424313</td>\n",
       "      <td>0.538245</td>\n",
       "      <td>-0.601889</td>\n",
       "      <td>0.476688</td>\n",
       "      <td>-1.302991</td>\n",
       "      <td>0.370472</td>\n",
       "      <td>1.046281</td>\n",
       "      <td>1.361080</td>\n",
       "      <td>-0.432009</td>\n",
       "      <td>-0.976741</td>\n",
       "      <td>-1.0</td>\n",
       "    </tr>\n",
       "    <tr>\n",
       "      <th>19</th>\n",
       "      <td>-0.920627</td>\n",
       "      <td>-0.769558</td>\n",
       "      <td>1.501984</td>\n",
       "      <td>0.304647</td>\n",
       "      <td>0.280842</td>\n",
       "      <td>0.900650</td>\n",
       "      <td>1.498041</td>\n",
       "      <td>1.084857</td>\n",
       "      <td>-0.628701</td>\n",
       "      <td>0.715141</td>\n",
       "      <td>-1.0</td>\n",
       "    </tr>\n",
       "    <tr>\n",
       "      <th>20</th>\n",
       "      <td>-0.026697</td>\n",
       "      <td>2.275078</td>\n",
       "      <td>0.853021</td>\n",
       "      <td>-0.565617</td>\n",
       "      <td>0.708669</td>\n",
       "      <td>-0.233696</td>\n",
       "      <td>0.427136</td>\n",
       "      <td>1.012946</td>\n",
       "      <td>2.694444</td>\n",
       "      <td>0.910672</td>\n",
       "      <td>1.0</td>\n",
       "    </tr>\n",
       "    <tr>\n",
       "      <th>21</th>\n",
       "      <td>0.027672</td>\n",
       "      <td>-0.275102</td>\n",
       "      <td>-1.036988</td>\n",
       "      <td>-0.787192</td>\n",
       "      <td>-0.039535</td>\n",
       "      <td>0.448697</td>\n",
       "      <td>0.840567</td>\n",
       "      <td>0.741959</td>\n",
       "      <td>0.048459</td>\n",
       "      <td>0.882678</td>\n",
       "      <td>-1.0</td>\n",
       "    </tr>\n",
       "    <tr>\n",
       "      <th>22</th>\n",
       "      <td>-1.232207</td>\n",
       "      <td>-0.320203</td>\n",
       "      <td>-0.513959</td>\n",
       "      <td>-0.508161</td>\n",
       "      <td>-0.289098</td>\n",
       "      <td>-0.316068</td>\n",
       "      <td>-0.132149</td>\n",
       "      <td>-0.424020</td>\n",
       "      <td>-0.652813</td>\n",
       "      <td>-0.790245</td>\n",
       "      <td>-1.0</td>\n",
       "    </tr>\n",
       "    <tr>\n",
       "      <th>23</th>\n",
       "      <td>0.271914</td>\n",
       "      <td>1.526496</td>\n",
       "      <td>0.558130</td>\n",
       "      <td>-2.107181</td>\n",
       "      <td>-0.469496</td>\n",
       "      <td>1.200627</td>\n",
       "      <td>-0.618710</td>\n",
       "      <td>0.062683</td>\n",
       "      <td>-0.926766</td>\n",
       "      <td>-0.456213</td>\n",
       "      <td>1.0</td>\n",
       "    </tr>\n",
       "    <tr>\n",
       "      <th>24</th>\n",
       "      <td>0.797220</td>\n",
       "      <td>0.686724</td>\n",
       "      <td>-1.336169</td>\n",
       "      <td>-0.773244</td>\n",
       "      <td>-0.107664</td>\n",
       "      <td>0.520114</td>\n",
       "      <td>-1.527998</td>\n",
       "      <td>1.208633</td>\n",
       "      <td>0.095459</td>\n",
       "      <td>-0.265690</td>\n",
       "      <td>-1.0</td>\n",
       "    </tr>\n",
       "    <tr>\n",
       "      <th>25</th>\n",
       "      <td>-0.084965</td>\n",
       "      <td>0.195299</td>\n",
       "      <td>-1.020505</td>\n",
       "      <td>-0.389382</td>\n",
       "      <td>-0.383908</td>\n",
       "      <td>0.473520</td>\n",
       "      <td>-0.266197</td>\n",
       "      <td>1.875643</td>\n",
       "      <td>0.894243</td>\n",
       "      <td>0.053565</td>\n",
       "      <td>-1.0</td>\n",
       "    </tr>\n",
       "    <tr>\n",
       "      <th>26</th>\n",
       "      <td>1.681650</td>\n",
       "      <td>0.718009</td>\n",
       "      <td>-1.512046</td>\n",
       "      <td>0.439106</td>\n",
       "      <td>0.452512</td>\n",
       "      <td>0.606160</td>\n",
       "      <td>-1.230840</td>\n",
       "      <td>-0.725158</td>\n",
       "      <td>0.774018</td>\n",
       "      <td>-0.807978</td>\n",
       "      <td>1.0</td>\n",
       "    </tr>\n",
       "    <tr>\n",
       "      <th>27</th>\n",
       "      <td>0.622798</td>\n",
       "      <td>0.791423</td>\n",
       "      <td>0.582871</td>\n",
       "      <td>1.619154</td>\n",
       "      <td>-0.201126</td>\n",
       "      <td>-0.613748</td>\n",
       "      <td>1.142791</td>\n",
       "      <td>-0.175812</td>\n",
       "      <td>-0.642141</td>\n",
       "      <td>-0.872944</td>\n",
       "      <td>-1.0</td>\n",
       "    </tr>\n",
       "    <tr>\n",
       "      <th>28</th>\n",
       "      <td>0.849616</td>\n",
       "      <td>0.307138</td>\n",
       "      <td>-1.030964</td>\n",
       "      <td>-0.038268</td>\n",
       "      <td>-0.503137</td>\n",
       "      <td>0.478983</td>\n",
       "      <td>0.844211</td>\n",
       "      <td>-2.072039</td>\n",
       "      <td>2.068980</td>\n",
       "      <td>-1.267780</td>\n",
       "      <td>1.0</td>\n",
       "    </tr>\n",
       "    <tr>\n",
       "      <th>29</th>\n",
       "      <td>-0.224431</td>\n",
       "      <td>0.241383</td>\n",
       "      <td>0.863331</td>\n",
       "      <td>-0.116174</td>\n",
       "      <td>1.182162</td>\n",
       "      <td>1.813826</td>\n",
       "      <td>1.939107</td>\n",
       "      <td>-0.817767</td>\n",
       "      <td>-0.618716</td>\n",
       "      <td>1.806629</td>\n",
       "      <td>1.0</td>\n",
       "    </tr>\n",
       "    <tr>\n",
       "      <th>...</th>\n",
       "      <td>...</td>\n",
       "      <td>...</td>\n",
       "      <td>...</td>\n",
       "      <td>...</td>\n",
       "      <td>...</td>\n",
       "      <td>...</td>\n",
       "      <td>...</td>\n",
       "      <td>...</td>\n",
       "      <td>...</td>\n",
       "      <td>...</td>\n",
       "      <td>...</td>\n",
       "    </tr>\n",
       "    <tr>\n",
       "      <th>11970</th>\n",
       "      <td>-2.699347</td>\n",
       "      <td>-1.041973</td>\n",
       "      <td>-1.437640</td>\n",
       "      <td>-0.275696</td>\n",
       "      <td>0.206838</td>\n",
       "      <td>0.351106</td>\n",
       "      <td>-0.049603</td>\n",
       "      <td>0.858544</td>\n",
       "      <td>0.579594</td>\n",
       "      <td>1.099911</td>\n",
       "      <td>1.0</td>\n",
       "    </tr>\n",
       "    <tr>\n",
       "      <th>11971</th>\n",
       "      <td>-0.451867</td>\n",
       "      <td>1.171733</td>\n",
       "      <td>2.059115</td>\n",
       "      <td>-0.365599</td>\n",
       "      <td>0.073542</td>\n",
       "      <td>-1.086215</td>\n",
       "      <td>0.289183</td>\n",
       "      <td>1.610202</td>\n",
       "      <td>-0.683513</td>\n",
       "      <td>-1.296432</td>\n",
       "      <td>1.0</td>\n",
       "    </tr>\n",
       "    <tr>\n",
       "      <th>11972</th>\n",
       "      <td>-1.463453</td>\n",
       "      <td>-1.289804</td>\n",
       "      <td>0.882562</td>\n",
       "      <td>-1.518100</td>\n",
       "      <td>-0.365364</td>\n",
       "      <td>-0.136070</td>\n",
       "      <td>-0.057976</td>\n",
       "      <td>-0.157361</td>\n",
       "      <td>-0.649648</td>\n",
       "      <td>-0.176878</td>\n",
       "      <td>-1.0</td>\n",
       "    </tr>\n",
       "    <tr>\n",
       "      <th>11973</th>\n",
       "      <td>-1.413778</td>\n",
       "      <td>-0.833697</td>\n",
       "      <td>0.502881</td>\n",
       "      <td>-0.800273</td>\n",
       "      <td>0.803519</td>\n",
       "      <td>-1.276217</td>\n",
       "      <td>0.078571</td>\n",
       "      <td>-0.961993</td>\n",
       "      <td>-1.417955</td>\n",
       "      <td>-0.026563</td>\n",
       "      <td>-1.0</td>\n",
       "    </tr>\n",
       "    <tr>\n",
       "      <th>11974</th>\n",
       "      <td>1.658893</td>\n",
       "      <td>0.404783</td>\n",
       "      <td>-0.556971</td>\n",
       "      <td>-0.319624</td>\n",
       "      <td>-1.024431</td>\n",
       "      <td>0.188668</td>\n",
       "      <td>-0.667844</td>\n",
       "      <td>0.709002</td>\n",
       "      <td>0.266852</td>\n",
       "      <td>-0.299954</td>\n",
       "      <td>-1.0</td>\n",
       "    </tr>\n",
       "    <tr>\n",
       "      <th>11975</th>\n",
       "      <td>0.140340</td>\n",
       "      <td>-0.194818</td>\n",
       "      <td>-0.121772</td>\n",
       "      <td>-0.778489</td>\n",
       "      <td>0.028727</td>\n",
       "      <td>-0.944090</td>\n",
       "      <td>-0.886098</td>\n",
       "      <td>1.927757</td>\n",
       "      <td>-1.168138</td>\n",
       "      <td>0.482177</td>\n",
       "      <td>-1.0</td>\n",
       "    </tr>\n",
       "    <tr>\n",
       "      <th>11976</th>\n",
       "      <td>0.083322</td>\n",
       "      <td>0.408376</td>\n",
       "      <td>0.979192</td>\n",
       "      <td>0.860776</td>\n",
       "      <td>0.228016</td>\n",
       "      <td>-2.322453</td>\n",
       "      <td>1.127095</td>\n",
       "      <td>-1.534187</td>\n",
       "      <td>0.071589</td>\n",
       "      <td>0.673186</td>\n",
       "      <td>1.0</td>\n",
       "    </tr>\n",
       "    <tr>\n",
       "      <th>11977</th>\n",
       "      <td>0.783964</td>\n",
       "      <td>-0.319152</td>\n",
       "      <td>1.200353</td>\n",
       "      <td>1.851841</td>\n",
       "      <td>1.102380</td>\n",
       "      <td>-0.665453</td>\n",
       "      <td>0.090798</td>\n",
       "      <td>-0.216926</td>\n",
       "      <td>0.771639</td>\n",
       "      <td>0.753881</td>\n",
       "      <td>-1.0</td>\n",
       "    </tr>\n",
       "    <tr>\n",
       "      <th>11978</th>\n",
       "      <td>0.371910</td>\n",
       "      <td>-1.192175</td>\n",
       "      <td>-0.241088</td>\n",
       "      <td>-1.944559</td>\n",
       "      <td>0.140011</td>\n",
       "      <td>2.078259</td>\n",
       "      <td>-0.128667</td>\n",
       "      <td>-1.067013</td>\n",
       "      <td>0.415535</td>\n",
       "      <td>0.936174</td>\n",
       "      <td>1.0</td>\n",
       "    </tr>\n",
       "    <tr>\n",
       "      <th>11979</th>\n",
       "      <td>1.545436</td>\n",
       "      <td>0.853629</td>\n",
       "      <td>0.728101</td>\n",
       "      <td>0.563115</td>\n",
       "      <td>0.010577</td>\n",
       "      <td>0.101118</td>\n",
       "      <td>-0.617469</td>\n",
       "      <td>0.303143</td>\n",
       "      <td>-0.343004</td>\n",
       "      <td>1.665640</td>\n",
       "      <td>-1.0</td>\n",
       "    </tr>\n",
       "    <tr>\n",
       "      <th>11980</th>\n",
       "      <td>1.055359</td>\n",
       "      <td>0.776703</td>\n",
       "      <td>-1.291950</td>\n",
       "      <td>-1.253517</td>\n",
       "      <td>1.932467</td>\n",
       "      <td>0.025278</td>\n",
       "      <td>-2.057440</td>\n",
       "      <td>0.304456</td>\n",
       "      <td>1.865068</td>\n",
       "      <td>-1.280606</td>\n",
       "      <td>1.0</td>\n",
       "    </tr>\n",
       "    <tr>\n",
       "      <th>11981</th>\n",
       "      <td>-1.289730</td>\n",
       "      <td>-1.031642</td>\n",
       "      <td>0.413849</td>\n",
       "      <td>-0.611669</td>\n",
       "      <td>-0.540799</td>\n",
       "      <td>-0.382658</td>\n",
       "      <td>-0.716003</td>\n",
       "      <td>-0.378555</td>\n",
       "      <td>0.683993</td>\n",
       "      <td>1.295172</td>\n",
       "      <td>-1.0</td>\n",
       "    </tr>\n",
       "    <tr>\n",
       "      <th>11982</th>\n",
       "      <td>1.299663</td>\n",
       "      <td>-0.776182</td>\n",
       "      <td>-0.945294</td>\n",
       "      <td>1.468648</td>\n",
       "      <td>0.532669</td>\n",
       "      <td>2.081392</td>\n",
       "      <td>0.365285</td>\n",
       "      <td>0.749614</td>\n",
       "      <td>-0.347521</td>\n",
       "      <td>0.737370</td>\n",
       "      <td>1.0</td>\n",
       "    </tr>\n",
       "    <tr>\n",
       "      <th>11983</th>\n",
       "      <td>-0.985080</td>\n",
       "      <td>0.609877</td>\n",
       "      <td>1.231454</td>\n",
       "      <td>1.479728</td>\n",
       "      <td>-0.031694</td>\n",
       "      <td>0.034195</td>\n",
       "      <td>0.205822</td>\n",
       "      <td>-0.581606</td>\n",
       "      <td>1.212546</td>\n",
       "      <td>-1.888836</td>\n",
       "      <td>1.0</td>\n",
       "    </tr>\n",
       "    <tr>\n",
       "      <th>11984</th>\n",
       "      <td>1.229907</td>\n",
       "      <td>0.493280</td>\n",
       "      <td>-0.730986</td>\n",
       "      <td>-2.115304</td>\n",
       "      <td>-0.992141</td>\n",
       "      <td>-0.681546</td>\n",
       "      <td>0.885101</td>\n",
       "      <td>2.063933</td>\n",
       "      <td>-0.639272</td>\n",
       "      <td>0.151547</td>\n",
       "      <td>1.0</td>\n",
       "    </tr>\n",
       "    <tr>\n",
       "      <th>11985</th>\n",
       "      <td>0.957285</td>\n",
       "      <td>-1.206434</td>\n",
       "      <td>0.205874</td>\n",
       "      <td>-0.001398</td>\n",
       "      <td>-1.327694</td>\n",
       "      <td>-1.233435</td>\n",
       "      <td>-0.905596</td>\n",
       "      <td>2.224331</td>\n",
       "      <td>-0.695405</td>\n",
       "      <td>0.561565</td>\n",
       "      <td>1.0</td>\n",
       "    </tr>\n",
       "    <tr>\n",
       "      <th>11986</th>\n",
       "      <td>0.067491</td>\n",
       "      <td>-0.183651</td>\n",
       "      <td>0.041974</td>\n",
       "      <td>0.588729</td>\n",
       "      <td>-1.613774</td>\n",
       "      <td>0.418198</td>\n",
       "      <td>0.685309</td>\n",
       "      <td>0.010234</td>\n",
       "      <td>1.531542</td>\n",
       "      <td>1.832263</td>\n",
       "      <td>-1.0</td>\n",
       "    </tr>\n",
       "    <tr>\n",
       "      <th>11987</th>\n",
       "      <td>2.671898</td>\n",
       "      <td>-0.060913</td>\n",
       "      <td>-0.379099</td>\n",
       "      <td>-1.025919</td>\n",
       "      <td>0.045294</td>\n",
       "      <td>-0.924724</td>\n",
       "      <td>-0.196183</td>\n",
       "      <td>-0.974059</td>\n",
       "      <td>-0.092561</td>\n",
       "      <td>1.135305</td>\n",
       "      <td>1.0</td>\n",
       "    </tr>\n",
       "    <tr>\n",
       "      <th>11988</th>\n",
       "      <td>0.931601</td>\n",
       "      <td>-2.460781</td>\n",
       "      <td>0.763035</td>\n",
       "      <td>-0.160287</td>\n",
       "      <td>-0.750053</td>\n",
       "      <td>1.392964</td>\n",
       "      <td>1.242042</td>\n",
       "      <td>0.365234</td>\n",
       "      <td>0.122869</td>\n",
       "      <td>2.002482</td>\n",
       "      <td>1.0</td>\n",
       "    </tr>\n",
       "    <tr>\n",
       "      <th>11989</th>\n",
       "      <td>-1.305097</td>\n",
       "      <td>0.552282</td>\n",
       "      <td>0.614025</td>\n",
       "      <td>-0.792070</td>\n",
       "      <td>-3.052182</td>\n",
       "      <td>-0.816454</td>\n",
       "      <td>0.209312</td>\n",
       "      <td>-0.128228</td>\n",
       "      <td>-1.036128</td>\n",
       "      <td>-0.309813</td>\n",
       "      <td>1.0</td>\n",
       "    </tr>\n",
       "    <tr>\n",
       "      <th>11990</th>\n",
       "      <td>-0.378105</td>\n",
       "      <td>-1.602341</td>\n",
       "      <td>0.541808</td>\n",
       "      <td>0.066534</td>\n",
       "      <td>0.767228</td>\n",
       "      <td>0.417573</td>\n",
       "      <td>0.291407</td>\n",
       "      <td>0.255448</td>\n",
       "      <td>2.309819</td>\n",
       "      <td>0.466129</td>\n",
       "      <td>1.0</td>\n",
       "    </tr>\n",
       "    <tr>\n",
       "      <th>11991</th>\n",
       "      <td>-0.118719</td>\n",
       "      <td>0.610576</td>\n",
       "      <td>-0.147253</td>\n",
       "      <td>-1.685833</td>\n",
       "      <td>-1.711672</td>\n",
       "      <td>0.301489</td>\n",
       "      <td>-1.003779</td>\n",
       "      <td>0.926957</td>\n",
       "      <td>-1.495329</td>\n",
       "      <td>1.621085</td>\n",
       "      <td>1.0</td>\n",
       "    </tr>\n",
       "    <tr>\n",
       "      <th>11992</th>\n",
       "      <td>0.037240</td>\n",
       "      <td>-0.633757</td>\n",
       "      <td>-1.353345</td>\n",
       "      <td>0.013373</td>\n",
       "      <td>0.740264</td>\n",
       "      <td>-1.776425</td>\n",
       "      <td>0.181253</td>\n",
       "      <td>-0.396114</td>\n",
       "      <td>0.144580</td>\n",
       "      <td>0.049735</td>\n",
       "      <td>-1.0</td>\n",
       "    </tr>\n",
       "    <tr>\n",
       "      <th>11993</th>\n",
       "      <td>0.083725</td>\n",
       "      <td>-0.978317</td>\n",
       "      <td>-0.024652</td>\n",
       "      <td>0.042726</td>\n",
       "      <td>-0.294803</td>\n",
       "      <td>1.381406</td>\n",
       "      <td>-0.609679</td>\n",
       "      <td>0.972562</td>\n",
       "      <td>-0.969526</td>\n",
       "      <td>0.027738</td>\n",
       "      <td>-1.0</td>\n",
       "    </tr>\n",
       "    <tr>\n",
       "      <th>11994</th>\n",
       "      <td>0.885989</td>\n",
       "      <td>1.405089</td>\n",
       "      <td>1.125479</td>\n",
       "      <td>1.222636</td>\n",
       "      <td>0.452879</td>\n",
       "      <td>-2.304916</td>\n",
       "      <td>0.459138</td>\n",
       "      <td>1.213988</td>\n",
       "      <td>1.073154</td>\n",
       "      <td>-1.192985</td>\n",
       "      <td>1.0</td>\n",
       "    </tr>\n",
       "    <tr>\n",
       "      <th>11995</th>\n",
       "      <td>-1.286981</td>\n",
       "      <td>0.368269</td>\n",
       "      <td>1.304489</td>\n",
       "      <td>0.940687</td>\n",
       "      <td>-0.559992</td>\n",
       "      <td>0.330241</td>\n",
       "      <td>-0.789024</td>\n",
       "      <td>-0.352270</td>\n",
       "      <td>0.212391</td>\n",
       "      <td>0.954380</td>\n",
       "      <td>-1.0</td>\n",
       "    </tr>\n",
       "    <tr>\n",
       "      <th>11996</th>\n",
       "      <td>-0.434206</td>\n",
       "      <td>0.840464</td>\n",
       "      <td>-0.079548</td>\n",
       "      <td>1.648202</td>\n",
       "      <td>-1.761199</td>\n",
       "      <td>-1.562246</td>\n",
       "      <td>0.827280</td>\n",
       "      <td>0.095925</td>\n",
       "      <td>0.826469</td>\n",
       "      <td>0.166219</td>\n",
       "      <td>1.0</td>\n",
       "    </tr>\n",
       "    <tr>\n",
       "      <th>11997</th>\n",
       "      <td>-0.748945</td>\n",
       "      <td>-1.817816</td>\n",
       "      <td>0.257768</td>\n",
       "      <td>2.142716</td>\n",
       "      <td>0.009972</td>\n",
       "      <td>-0.361451</td>\n",
       "      <td>0.604401</td>\n",
       "      <td>1.116456</td>\n",
       "      <td>0.867580</td>\n",
       "      <td>-2.240265</td>\n",
       "      <td>1.0</td>\n",
       "    </tr>\n",
       "    <tr>\n",
       "      <th>11998</th>\n",
       "      <td>1.086802</td>\n",
       "      <td>0.393441</td>\n",
       "      <td>-0.425145</td>\n",
       "      <td>-1.690522</td>\n",
       "      <td>-0.093996</td>\n",
       "      <td>0.123886</td>\n",
       "      <td>-0.115448</td>\n",
       "      <td>-0.646418</td>\n",
       "      <td>-0.574907</td>\n",
       "      <td>-1.014288</td>\n",
       "      <td>-1.0</td>\n",
       "    </tr>\n",
       "    <tr>\n",
       "      <th>11999</th>\n",
       "      <td>-0.712551</td>\n",
       "      <td>0.914007</td>\n",
       "      <td>0.021056</td>\n",
       "      <td>-0.113407</td>\n",
       "      <td>-0.579062</td>\n",
       "      <td>1.324738</td>\n",
       "      <td>0.187318</td>\n",
       "      <td>-1.050716</td>\n",
       "      <td>-0.423660</td>\n",
       "      <td>0.296179</td>\n",
       "      <td>-1.0</td>\n",
       "    </tr>\n",
       "  </tbody>\n",
       "</table>\n",
       "<p>12000 rows × 11 columns</p>\n",
       "</div>"
      ],
      "text/plain": [
       "              0         1         2         3         4         5         6  \\\n",
       "0     -0.870716 -2.540629 -0.025814 -1.016499 -0.287056  0.229706 -0.924571   \n",
       "1      0.143591 -1.048010  1.980638  1.199602  0.083958 -1.017653  0.451292   \n",
       "2     -0.085304  0.353876 -1.754705  1.243128 -0.914868  0.305403 -2.510571   \n",
       "3     -0.079525 -1.175333  0.178160 -0.074989  1.037825 -1.329029 -0.369398   \n",
       "4     -0.271138  1.870843 -0.946545  0.906102  0.008632  0.623932 -0.247917   \n",
       "5     -1.892867  0.255265 -1.957443 -1.564878  0.789182 -0.921502  0.319279   \n",
       "6     -1.105377 -1.173451  1.108833 -0.685181 -1.392090 -0.780494 -1.084546   \n",
       "7     -1.768469 -0.115585  1.989001 -0.835394 -0.046989  0.978338  0.947251   \n",
       "8      1.590165  0.559940  1.282899  0.120685 -0.856146 -0.525670  0.937304   \n",
       "9      0.118249  0.045123 -0.979277 -0.102409 -0.572871 -0.580442 -2.198135   \n",
       "10     0.085387  0.823020 -1.242599  1.706867 -0.308785 -0.352421 -2.096432   \n",
       "11     0.081933 -1.207133 -0.691949  0.059042  0.995750  1.761372  0.090681   \n",
       "12    -1.301161  1.247218  0.574812  0.832306 -0.666556  1.774307  0.682111   \n",
       "13     0.353311  0.500582 -0.280482 -0.514886 -0.300380 -0.619996  0.376675   \n",
       "14    -0.604706 -0.219140 -1.182709 -1.062888  0.024115 -0.050354  0.208363   \n",
       "15     2.470850  0.196626  1.773588 -0.783472 -0.052601  0.247663 -0.439570   \n",
       "16    -0.261013 -0.344306  1.537451  1.200087  1.270726 -1.844427  0.211617   \n",
       "17    -0.894386  0.968009  0.270891  1.797655 -0.931417  1.709680  2.186237   \n",
       "18    -0.424313  0.538245 -0.601889  0.476688 -1.302991  0.370472  1.046281   \n",
       "19    -0.920627 -0.769558  1.501984  0.304647  0.280842  0.900650  1.498041   \n",
       "20    -0.026697  2.275078  0.853021 -0.565617  0.708669 -0.233696  0.427136   \n",
       "21     0.027672 -0.275102 -1.036988 -0.787192 -0.039535  0.448697  0.840567   \n",
       "22    -1.232207 -0.320203 -0.513959 -0.508161 -0.289098 -0.316068 -0.132149   \n",
       "23     0.271914  1.526496  0.558130 -2.107181 -0.469496  1.200627 -0.618710   \n",
       "24     0.797220  0.686724 -1.336169 -0.773244 -0.107664  0.520114 -1.527998   \n",
       "25    -0.084965  0.195299 -1.020505 -0.389382 -0.383908  0.473520 -0.266197   \n",
       "26     1.681650  0.718009 -1.512046  0.439106  0.452512  0.606160 -1.230840   \n",
       "27     0.622798  0.791423  0.582871  1.619154 -0.201126 -0.613748  1.142791   \n",
       "28     0.849616  0.307138 -1.030964 -0.038268 -0.503137  0.478983  0.844211   \n",
       "29    -0.224431  0.241383  0.863331 -0.116174  1.182162  1.813826  1.939107   \n",
       "...         ...       ...       ...       ...       ...       ...       ...   \n",
       "11970 -2.699347 -1.041973 -1.437640 -0.275696  0.206838  0.351106 -0.049603   \n",
       "11971 -0.451867  1.171733  2.059115 -0.365599  0.073542 -1.086215  0.289183   \n",
       "11972 -1.463453 -1.289804  0.882562 -1.518100 -0.365364 -0.136070 -0.057976   \n",
       "11973 -1.413778 -0.833697  0.502881 -0.800273  0.803519 -1.276217  0.078571   \n",
       "11974  1.658893  0.404783 -0.556971 -0.319624 -1.024431  0.188668 -0.667844   \n",
       "11975  0.140340 -0.194818 -0.121772 -0.778489  0.028727 -0.944090 -0.886098   \n",
       "11976  0.083322  0.408376  0.979192  0.860776  0.228016 -2.322453  1.127095   \n",
       "11977  0.783964 -0.319152  1.200353  1.851841  1.102380 -0.665453  0.090798   \n",
       "11978  0.371910 -1.192175 -0.241088 -1.944559  0.140011  2.078259 -0.128667   \n",
       "11979  1.545436  0.853629  0.728101  0.563115  0.010577  0.101118 -0.617469   \n",
       "11980  1.055359  0.776703 -1.291950 -1.253517  1.932467  0.025278 -2.057440   \n",
       "11981 -1.289730 -1.031642  0.413849 -0.611669 -0.540799 -0.382658 -0.716003   \n",
       "11982  1.299663 -0.776182 -0.945294  1.468648  0.532669  2.081392  0.365285   \n",
       "11983 -0.985080  0.609877  1.231454  1.479728 -0.031694  0.034195  0.205822   \n",
       "11984  1.229907  0.493280 -0.730986 -2.115304 -0.992141 -0.681546  0.885101   \n",
       "11985  0.957285 -1.206434  0.205874 -0.001398 -1.327694 -1.233435 -0.905596   \n",
       "11986  0.067491 -0.183651  0.041974  0.588729 -1.613774  0.418198  0.685309   \n",
       "11987  2.671898 -0.060913 -0.379099 -1.025919  0.045294 -0.924724 -0.196183   \n",
       "11988  0.931601 -2.460781  0.763035 -0.160287 -0.750053  1.392964  1.242042   \n",
       "11989 -1.305097  0.552282  0.614025 -0.792070 -3.052182 -0.816454  0.209312   \n",
       "11990 -0.378105 -1.602341  0.541808  0.066534  0.767228  0.417573  0.291407   \n",
       "11991 -0.118719  0.610576 -0.147253 -1.685833 -1.711672  0.301489 -1.003779   \n",
       "11992  0.037240 -0.633757 -1.353345  0.013373  0.740264 -1.776425  0.181253   \n",
       "11993  0.083725 -0.978317 -0.024652  0.042726 -0.294803  1.381406 -0.609679   \n",
       "11994  0.885989  1.405089  1.125479  1.222636  0.452879 -2.304916  0.459138   \n",
       "11995 -1.286981  0.368269  1.304489  0.940687 -0.559992  0.330241 -0.789024   \n",
       "11996 -0.434206  0.840464 -0.079548  1.648202 -1.761199 -1.562246  0.827280   \n",
       "11997 -0.748945 -1.817816  0.257768  2.142716  0.009972 -0.361451  0.604401   \n",
       "11998  1.086802  0.393441 -0.425145 -1.690522 -0.093996  0.123886 -0.115448   \n",
       "11999 -0.712551  0.914007  0.021056 -0.113407 -0.579062  1.324738  0.187318   \n",
       "\n",
       "              7         8         9    Y  \n",
       "0     -1.972375  0.814403  2.117970  1.0  \n",
       "1     -0.503159 -1.039166 -1.073902  1.0  \n",
       "2      0.756657  0.154306  0.096940  1.0  \n",
       "3      0.011653 -0.078158 -0.857947 -1.0  \n",
       "4      0.679114 -2.093285 -0.425398  1.0  \n",
       "5     -0.964341  1.251592  1.227638  1.0  \n",
       "6      0.581325  1.096738  1.412062  1.0  \n",
       "7      0.185964  1.895223 -0.253843  1.0  \n",
       "8     -0.484446  0.899186 -0.378364 -1.0  \n",
       "9     -0.172744  0.834864 -0.509731 -1.0  \n",
       "10     1.060285 -0.030738  0.305210  1.0  \n",
       "11    -0.364114 -0.081609 -1.232924 -1.0  \n",
       "12    -1.358186  0.564570 -0.660248  1.0  \n",
       "13    -1.668351 -2.069383  0.470420 -1.0  \n",
       "14     0.106397  0.409322  1.418429 -1.0  \n",
       "15    -1.046484 -1.056706 -0.047539  1.0  \n",
       "16    -0.669065 -0.939060 -0.202554  1.0  \n",
       "17     1.312037  0.108436  0.685091  1.0  \n",
       "18     1.361080 -0.432009 -0.976741 -1.0  \n",
       "19     1.084857 -0.628701  0.715141 -1.0  \n",
       "20     1.012946  2.694444  0.910672  1.0  \n",
       "21     0.741959  0.048459  0.882678 -1.0  \n",
       "22    -0.424020 -0.652813 -0.790245 -1.0  \n",
       "23     0.062683 -0.926766 -0.456213  1.0  \n",
       "24     1.208633  0.095459 -0.265690 -1.0  \n",
       "25     1.875643  0.894243  0.053565 -1.0  \n",
       "26    -0.725158  0.774018 -0.807978  1.0  \n",
       "27    -0.175812 -0.642141 -0.872944 -1.0  \n",
       "28    -2.072039  2.068980 -1.267780  1.0  \n",
       "29    -0.817767 -0.618716  1.806629  1.0  \n",
       "...         ...       ...       ...  ...  \n",
       "11970  0.858544  0.579594  1.099911  1.0  \n",
       "11971  1.610202 -0.683513 -1.296432  1.0  \n",
       "11972 -0.157361 -0.649648 -0.176878 -1.0  \n",
       "11973 -0.961993 -1.417955 -0.026563 -1.0  \n",
       "11974  0.709002  0.266852 -0.299954 -1.0  \n",
       "11975  1.927757 -1.168138  0.482177 -1.0  \n",
       "11976 -1.534187  0.071589  0.673186  1.0  \n",
       "11977 -0.216926  0.771639  0.753881 -1.0  \n",
       "11978 -1.067013  0.415535  0.936174  1.0  \n",
       "11979  0.303143 -0.343004  1.665640 -1.0  \n",
       "11980  0.304456  1.865068 -1.280606  1.0  \n",
       "11981 -0.378555  0.683993  1.295172 -1.0  \n",
       "11982  0.749614 -0.347521  0.737370  1.0  \n",
       "11983 -0.581606  1.212546 -1.888836  1.0  \n",
       "11984  2.063933 -0.639272  0.151547  1.0  \n",
       "11985  2.224331 -0.695405  0.561565  1.0  \n",
       "11986  0.010234  1.531542  1.832263 -1.0  \n",
       "11987 -0.974059 -0.092561  1.135305  1.0  \n",
       "11988  0.365234  0.122869  2.002482  1.0  \n",
       "11989 -0.128228 -1.036128 -0.309813  1.0  \n",
       "11990  0.255448  2.309819  0.466129  1.0  \n",
       "11991  0.926957 -1.495329  1.621085  1.0  \n",
       "11992 -0.396114  0.144580  0.049735 -1.0  \n",
       "11993  0.972562 -0.969526  0.027738 -1.0  \n",
       "11994  1.213988  1.073154 -1.192985  1.0  \n",
       "11995 -0.352270  0.212391  0.954380 -1.0  \n",
       "11996  0.095925  0.826469  0.166219  1.0  \n",
       "11997  1.116456  0.867580 -2.240265  1.0  \n",
       "11998 -0.646418 -0.574907 -1.014288 -1.0  \n",
       "11999 -1.050716 -0.423660  0.296179 -1.0  \n",
       "\n",
       "[12000 rows x 11 columns]"
      ]
     },
     "metadata": {},
     "output_type": "display_data"
    }
   ],
   "source": [
    "from sklearn.datasets import make_hastie_10_2\n",
    "from IPython.display import display\n",
    "import pandas as pd \n",
    "x, y = make_hastie_10_2()\n",
    "df = pd.DataFrame(x)\n",
    "df['Y'] = y\n",
    "display(df)"
   ]
  },
  {
   "cell_type": "code",
   "execution_count": 74,
   "metadata": {},
   "outputs": [
    {
     "data": {
      "text/plain": [
       "range(10, 410, 10)"
      ]
     },
     "execution_count": 74,
     "metadata": {},
     "output_type": "execute_result"
    }
   ],
   "source": [
    "range(10, 410, 10)\n"
   ]
  },
  {
   "cell_type": "code",
   "execution_count": 75,
   "metadata": {},
   "outputs": [
    {
     "name": "stdout",
     "output_type": "stream",
     "text": [
      "10\n",
      "20\n",
      "30\n",
      "40\n",
      "50\n",
      "60\n",
      "70\n",
      "80\n",
      "90\n",
      "100\n",
      "110\n",
      "120\n",
      "130\n",
      "140\n",
      "150\n",
      "160\n",
      "170\n",
      "180\n",
      "190\n",
      "200\n",
      "210\n",
      "220\n",
      "230\n",
      "240\n",
      "250\n",
      "260\n",
      "270\n",
      "280\n",
      "290\n",
      "300\n",
      "310\n",
      "320\n",
      "330\n",
      "340\n",
      "350\n",
      "360\n",
      "370\n",
      "380\n",
      "390\n",
      "400\n"
     ]
    }
   ],
   "source": [
    "x_range = range(10, 410, 10)\n",
    "for i in x_range:\n",
    "    print(i)"
   ]
  },
  {
   "cell_type": "code",
   "execution_count": 76,
   "metadata": {},
   "outputs": [
    {
     "data": {
      "text/plain": [
       "0.9599673202614379"
      ]
     },
     "execution_count": 76,
     "metadata": {},
     "output_type": "execute_result"
    }
   ],
   "source": [
    "from sklearn.model_selection import cross_val_score\n",
    "from sklearn.datasets import load_iris\n",
    "from sklearn.ensemble import AdaBoostClassifier\n",
    "\n",
    "iris = load_iris()\n",
    "clf = AdaBoostClassifier(n_estimators=100)\n",
    "scores = cross_val_score(clf, iris.data, iris.target)\n",
    "scores.mean()        "
   ]
  },
  {
   "cell_type": "code",
   "execution_count": 77,
   "metadata": {},
   "outputs": [
    {
     "data": {
      "text/plain": [
       "(3,)"
      ]
     },
     "execution_count": 77,
     "metadata": {},
     "output_type": "execute_result"
    }
   ],
   "source": [
    "np.shape(scores)"
   ]
  },
  {
   "cell_type": "code",
   "execution_count": 78,
   "metadata": {},
   "outputs": [
    {
     "name": "stdout",
     "output_type": "stream",
     "text": [
      "[0.98039216 0.94117647 0.95833333]\n"
     ]
    }
   ],
   "source": [
    "print(scores)"
   ]
  },
  {
   "cell_type": "code",
   "execution_count": null,
   "metadata": {},
   "outputs": [],
   "source": []
  }
 ],
 "metadata": {
  "kernelspec": {
   "display_name": "Python 3",
   "language": "python",
   "name": "python3"
  },
  "language_info": {
   "codemirror_mode": {
    "name": "ipython",
    "version": 3
   },
   "file_extension": ".py",
   "mimetype": "text/x-python",
   "name": "python",
   "nbconvert_exporter": "python",
   "pygments_lexer": "ipython3",
   "version": "3.6.5"
  }
 },
 "nbformat": 4,
 "nbformat_minor": 2
}
