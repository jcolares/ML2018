{
 "cells": [
  {
   "cell_type": "markdown",
   "metadata": {},
   "source": [
    "# Código do trabalho 4 de Aprendizado de Máquina - parte 2"
   ]
  },
  {
   "cell_type": "markdown",
   "metadata": {},
   "source": [
    "## Carga e preparação dos dados"
   ]
  },
  {
   "cell_type": "code",
   "execution_count": 1,
   "metadata": {},
   "outputs": [],
   "source": [
    "# Bibliotecas\n",
    "import numpy as np\n",
    "import h5py\n",
    "import os \n",
    "import tensorflow as tf\n",
    "from tensorflow import keras\n",
    "import matplotlib.pyplot as plt\n",
    "import matplotlib.image as mpimg\n",
    "from sklearn.metrics import confusion_matrix\n"
   ]
  },
  {
   "cell_type": "code",
   "execution_count": 2,
   "metadata": {},
   "outputs": [],
   "source": [
    "# Diretório raiz. Apontar para o local onde estão os arquivos de dados\n",
    "os.chdir('/srv/ML2018/T4-2018')"
   ]
  },
  {
   "cell_type": "code",
   "execution_count": 3,
   "metadata": {},
   "outputs": [],
   "source": [
    "# Função que lê os dados nos arquivos fornecidos.\n",
    "def load_dataset():\n",
    "    train_dataset = h5py.File('train_catvnoncat.h5','r')\n",
    "    train_set_x_orig = np.array(train_dataset[\"train_set_x\"][ : ])   # your train set features\n",
    "    train_set_y_orig = np.array(train_dataset[\"train_set_y\"][ : ])   # your train set labels\n",
    "    \n",
    "    test_dataset = h5py.File(\"test_catvnoncat.h5\",\"r\")\n",
    "    test_set_x_orig = np.array(test_dataset[\"test_set_x\"][ : ])      # your test set features\n",
    "    test_set_y_orig = np.array(test_dataset[\"test_set_y\"][ : ])      # your test set labels\n",
    "    \n",
    "    classes = np.array(test_dataset[\"list_classes\"][:])              # the list of classes \n",
    "    \n",
    "    train_set_y_orig = train_set_y_orig.reshape((1, train_set_y_orig.shape[0]))\n",
    "    test_set_y_orig = test_set_y_orig.reshape((1, test_set_y_orig.shape[0]))\n",
    "    \n",
    "    return(train_set_x_orig, train_set_y_orig, test_set_x_orig, test_set_y_orig, classes)\n",
    "    "
   ]
  },
  {
   "cell_type": "code",
   "execution_count": 4,
   "metadata": {},
   "outputs": [],
   "source": [
    "# Carregar as imagens nos conjuntos de treinamento e teste\n",
    "train_x, train_y, test_x, test_y, classes = load_dataset()\n"
   ]
  },
  {
   "cell_type": "code",
   "execution_count": 5,
   "metadata": {},
   "outputs": [
    {
     "name": "stdout",
     "output_type": "stream",
     "text": [
      "(209, 64, 64, 3)\n"
     ]
    }
   ],
   "source": [
    "# Dimensões das imagens\n",
    "print(np.shape(train_x))"
   ]
  },
  {
   "cell_type": "code",
   "execution_count": 6,
   "metadata": {
    "scrolled": true
   },
   "outputs": [
    {
     "name": "stdout",
     "output_type": "stream",
     "text": [
      "[0]\n"
     ]
    },
    {
     "data": {
      "image/png": "[encoded data removed]",
      "text/plain": [
       "<matplotlib.figure.Figure at 0x7f8f5b112d68>"
      ]
     },
     "metadata": {},
     "output_type": "display_data"
    }
   ],
   "source": [
    "# Visualizar amostra de imagens\n",
    "plt.imshow(train_x[1])\n",
    "print(train_y[:,1])"
   ]
  },
  {
   "cell_type": "code",
   "execution_count": 7,
   "metadata": {},
   "outputs": [
    {
     "name": "stdout",
     "output_type": "stream",
     "text": [
      "Imagens (n train):  209\n",
      "largura:  64\n",
      "altura:  64\n",
      "canais:  3\n",
      "Imagens (n test):  50\n"
     ]
    }
   ],
   "source": [
    "# Obter dimensões\n",
    "train_x_shape = np.shape(train_x)\n",
    "test_x_shape = np.shape(test_x)\n",
    "ntrain = train_x_shape[0]\n",
    "ntest = test_x_shape[0]\n",
    "nrows = train_x_shape[1]\n",
    "ncols = train_x_shape[2]\n",
    "nchannels = train_x_shape[3]\n",
    "print(\"Imagens (n train): \",ntrain)\n",
    "print(\"largura: \",nrows)\n",
    "print(\"altura: \",ncols)\n",
    "print(\"canais: \",nchannels)\n",
    "print(\"Imagens (n test): \",ntest)\n"
   ]
  },
  {
   "cell_type": "code",
   "execution_count": 8,
   "metadata": {},
   "outputs": [],
   "source": [
    "# Normalização \n",
    "train_x = train_x / 255\n",
    "test_x = test_x / 255\n"
   ]
  },
  {
   "cell_type": "markdown",
   "metadata": {},
   "source": [
    "## Primeira parte: Treinar uma rede completamente conectada de uma única camada oculta e com uma camada de saı́da de duas unidades com softmax"
   ]
  },
  {
   "cell_type": "code",
   "execution_count": 9,
   "metadata": {},
   "outputs": [],
   "source": [
    "# Reformatar os dados (reshape)\n",
    "train_x_flat = train_x.flatten().reshape(ntrain, nrows * ncols * nchannels)\n",
    "test_x_flat = test_x.flatten().reshape(ntest, nrows * ncols * nchannels)\n",
    "train_y_cat = keras.utils.to_categorical(train_y[0], 2)\n",
    "test_y_cat = keras.utils.to_categorical(test_y[0], 2)"
   ]
  },
  {
   "cell_type": "code",
   "execution_count": 10,
   "metadata": {},
   "outputs": [
    {
     "name": "stdout",
     "output_type": "stream",
     "text": [
      "classes:  2\n",
      "train_x_flat:  (209, 12288)\n",
      "test_x_flat:  (50, 12288)\n",
      "train_y_cat:  (209, 2)\n",
      "test_y_cat:  (50, 2)\n"
     ]
    }
   ],
   "source": [
    "# Verificar dimensões\n",
    "print(\"classes: \", len(classes))\n",
    "print(\"train_x_flat: \",np.shape(train_x_flat))\n",
    "print(\"test_x_flat: \",np.shape(test_x_flat))\n",
    "print(\"train_y_cat: \",np.shape(train_y_cat))\n",
    "print(\"test_y_cat: \",np.shape(test_y_cat))\n"
   ]
  },
  {
   "cell_type": "code",
   "execution_count": 11,
   "metadata": {},
   "outputs": [],
   "source": [
    "# Definir o modelo\n",
    "model = keras.Sequential()\n",
    "\n",
    "# Camada Fully Connected\n",
    "model.add(keras.layers.Dense(128, input_shape = (nrows*ncols*nchannels, ), activation='relu'))\n",
    "\n",
    "# Softmax com duas saídas:\n",
    "model.add(keras.layers.Dense(2, activation='softmax'))"
   ]
  },
  {
   "cell_type": "code",
   "execution_count": 12,
   "metadata": {},
   "outputs": [
    {
     "name": "stdout",
     "output_type": "stream",
     "text": [
      "WARNING:tensorflow:From /usr/local/lib/python3.5/dist-packages/tensorflow/python/keras/_impl/keras/backend.py:1557: calling reduce_mean (from tensorflow.python.ops.math_ops) with keep_dims is deprecated and will be removed in a future version.\n",
      "Instructions for updating:\n",
      "keep_dims is deprecated, use keepdims instead\n"
     ]
    }
   ],
   "source": [
    "# Configurar o método de aprendizado\n",
    "\n",
    "#model.compile(optimizer=tf.train.RMSPropOptimizer(0.001), loss='binary_crossentropy', metrics=['binary_accuracy'])\n",
    "\n",
    "model.compile(optimizer='adam', loss='binary_crossentropy', metrics=['accuracy'])"
   ]
  },
  {
   "cell_type": "code",
   "execution_count": 13,
   "metadata": {},
   "outputs": [
    {
     "name": "stdout",
     "output_type": "stream",
     "text": [
      "Train on 209 samples, validate on 50 samples\n",
      "Epoch 1/30\n",
      "209/209 [==============================]209/209 [==============================] - 1s 5ms/step - loss: 3.7179 - acc: 0.6459 - val_loss: 1.6304 - val_acc: 0.6600\n",
      "\n",
      "Epoch 2/30\n",
      "209/209 [==============================]209/209 [==============================] - 0s 1ms/step - loss: 1.9502 - acc: 0.5933 - val_loss: 0.4848 - val_acc: 0.7600\n",
      "\n",
      "Epoch 3/30\n",
      "209/209 [==============================]209/209 [==============================] - 0s 1ms/step - loss: 0.8061 - acc: 0.6364 - val_loss: 0.6514 - val_acc: 0.7400\n",
      "\n",
      "Epoch 4/30\n",
      "209/209 [==============================]209/209 [==============================] - 0s 1ms/step - loss: 0.8865 - acc: 0.6364 - val_loss: 0.6523 - val_acc: 0.7400\n",
      "\n",
      "Epoch 5/30\n",
      "209/209 [==============================]209/209 [==============================] - 0s 1ms/step - loss: 1.1083 - acc: 0.6364 - val_loss: 0.7017 - val_acc: 0.5200\n",
      "\n",
      "Epoch 6/30\n",
      "209/209 [==============================]209/209 [==============================] - 0s 1ms/step - loss: 0.6907 - acc: 0.6603 - val_loss: 0.4929 - val_acc: 0.8200\n",
      "\n",
      "Epoch 7/30\n",
      "209/209 [==============================]209/209 [==============================] - 0s 1ms/step - loss: 0.6084 - acc: 0.6794 - val_loss: 0.5320 - val_acc: 0.7600\n",
      "\n",
      "Epoch 8/30\n",
      "209/209 [==============================]209/209 [==============================] - 0s 1ms/step - loss: 0.5130 - acc: 0.7464 - val_loss: 0.4850 - val_acc: 0.8600\n",
      "\n",
      "Epoch 9/30\n",
      "209/209 [==============================]209/209 [==============================] - 0s 1ms/step - loss: 0.5059 - acc: 0.7464 - val_loss: 0.5747 - val_acc: 0.7200\n",
      "\n",
      "Epoch 10/30\n",
      "209/209 [==============================]209/209 [==============================] - 0s 1ms/step - loss: 0.4264 - acc: 0.7990 - val_loss: 0.6048 - val_acc: 0.7000\n",
      "\n",
      "Epoch 11/30\n",
      "209/209 [==============================]209/209 [==============================] - 0s 1ms/step - loss: 0.3550 - acc: 0.8852 - val_loss: 0.5161 - val_acc: 0.8600\n",
      "\n",
      "Epoch 12/30\n",
      "209/209 [==============================]209/209 [==============================] - 0s 1ms/step - loss: 0.3606 - acc: 0.8612 - val_loss: 0.5224 - val_acc: 0.8400\n",
      "\n",
      "Epoch 13/30\n",
      "209/209 [==============================]209/209 [==============================] - 0s 1ms/step - loss: 0.3810 - acc: 0.8278 - val_loss: 0.5517 - val_acc: 0.7600\n",
      "\n",
      "Epoch 14/30\n",
      "209/209 [==============================]209/209 [==============================] - 0s 1ms/step - loss: 0.3332 - acc: 0.8900 - val_loss: 0.8050 - val_acc: 0.5600\n",
      "\n",
      "Epoch 15/30\n",
      "209/209 [==============================]209/209 [==============================] - 0s 1ms/step - loss: 0.3288 - acc: 0.8804 - val_loss: 0.5383 - val_acc: 0.8000\n",
      "\n",
      "Epoch 16/30\n",
      "209/209 [==============================]209/209 [==============================] - 0s 1ms/step - loss: 0.3158 - acc: 0.8517 - val_loss: 0.5476 - val_acc: 0.8000\n",
      "\n",
      "Epoch 17/30\n",
      "209/209 [==============================]209/209 [==============================] - 0s 1ms/step - loss: 0.3687 - acc: 0.8230 - val_loss: 0.7749 - val_acc: 0.6000\n",
      "\n",
      "Epoch 18/30\n",
      "209/209 [==============================]209/209 [==============================] - 0s 1ms/step - loss: 0.2641 - acc: 0.9330 - val_loss: 0.9325 - val_acc: 0.5400\n",
      "\n",
      "Epoch 19/30\n",
      "209/209 [==============================]209/209 [==============================] - 0s 1ms/step - loss: 0.2551 - acc: 0.9234 - val_loss: 0.6955 - val_acc: 0.7000\n",
      "\n",
      "Epoch 20/30\n",
      "209/209 [==============================]209/209 [==============================] - 0s 1ms/step - loss: 0.2446 - acc: 0.9091 - val_loss: 0.6041 - val_acc: 0.7800\n",
      "\n",
      "Epoch 21/30\n",
      "209/209 [==============================]209/209 [==============================] - 0s 1ms/step - loss: 0.3195 - acc: 0.8612 - val_loss: 1.6608 - val_acc: 0.3200\n",
      "\n",
      "Epoch 22/30\n",
      "209/209 [==============================]209/209 [==============================] - 0s 1ms/step - loss: 0.3379 - acc: 0.8852 - val_loss: 1.0027 - val_acc: 0.5200\n",
      "\n",
      "Epoch 23/30\n",
      "209/209 [==============================]209/209 [==============================] - 0s 1ms/step - loss: 0.2965 - acc: 0.8660 - val_loss: 0.6534 - val_acc: 0.7400\n",
      "\n",
      "Epoch 24/30\n",
      "209/209 [==============================]209/209 [==============================] - 0s 1ms/step - loss: 0.2564 - acc: 0.9139 - val_loss: 0.6541 - val_acc: 0.7200\n",
      "\n",
      "Epoch 25/30\n",
      "209/209 [==============================]209/209 [==============================] - 0s 1ms/step - loss: 0.2464 - acc: 0.9139 - val_loss: 0.6086 - val_acc: 0.8000\n",
      "\n",
      "Epoch 26/30\n",
      "209/209 [==============================]209/209 [==============================] - 0s 1ms/step - loss: 0.3262 - acc: 0.8469 - val_loss: 0.6350 - val_acc: 0.7800\n",
      "\n",
      "Epoch 27/30\n",
      "209/209 [==============================]209/209 [==============================] - 0s 1ms/step - loss: 0.2592 - acc: 0.8900 - val_loss: 0.7164 - val_acc: 0.7400\n",
      "\n",
      "Epoch 28/30\n",
      "209/209 [==============================]209/209 [==============================] - 0s 1ms/step - loss: 0.2480 - acc: 0.9139 - val_loss: 1.1357 - val_acc: 0.4600\n",
      "\n",
      "Epoch 29/30\n",
      "209/209 [==============================]209/209 [==============================] - 0s 1ms/step - loss: 0.2656 - acc: 0.8852 - val_loss: 1.6695 - val_acc: 0.4000\n",
      "\n",
      "Epoch 30/30\n",
      "209/209 [==============================]209/209 [==============================] - 0s 1ms/step - loss: 0.3790 - acc: 0.8134 - val_loss: 1.0370 - val_acc: 0.6000\n",
      "\n"
     ]
    },
    {
     "data": {
      "text/plain": [
       "<tensorflow.python.keras._impl.keras.callbacks.History at 0x7f8f5ab6a278>"
      ]
     },
     "execution_count": 13,
     "metadata": {},
     "output_type": "execute_result"
    }
   ],
   "source": [
    "# Ajustar o modelo\n",
    "\n",
    "model.fit(train_x_flat, train_y_cat, epochs=30, validation_data=(test_x_flat, test_y_cat))\n"
   ]
  },
  {
   "cell_type": "code",
   "execution_count": 14,
   "metadata": {},
   "outputs": [],
   "source": [
    "# Avaliar o modelo\n",
    "\n",
    "result = model.predict(test_x_flat)\n"
   ]
  },
  {
   "cell_type": "code",
   "execution_count": 15,
   "metadata": {
    "scrolled": true
   },
   "outputs": [
    {
     "name": "stdout",
     "output_type": "stream",
     "text": [
      "[[14  3]\n",
      " [17 16]]\n",
      "Acurácia:  0.6\n"
     ]
    }
   ],
   "source": [
    "# Teste de acurácia / Confusion Matrix\n",
    "# Conjunto de Teste\n",
    "\n",
    "y_true = test_y[0,:]\n",
    "y_test = np.round(result[:,1])\n",
    "cm = confusion_matrix(y_true, y_test)\n",
    "print(cm)\n",
    "acc = (cm[0,0] + cm[1,1]) / np.sum(cm)\n",
    "print(\"Acurácia: \",acc)"
   ]
  },
  {
   "cell_type": "markdown",
   "metadata": {},
   "source": [
    "## Segunda parte: Treinar uma rede convolucional."
   ]
  },
  {
   "cell_type": "code",
   "execution_count": 16,
   "metadata": {},
   "outputs": [],
   "source": [
    "# Definir o modelo\n",
    "model = keras.Sequential()\n",
    "\n",
    "# Camada Convolucional\n",
    "model.add(keras.layers.Conv2D(64, (3,3), input_shape=(nrows, ncols, nchannels), \n",
    "                              use_bias=True, activation='relu'))\n",
    "# Max pooling\n",
    "model.add(keras.layers.MaxPooling2D(pool_size = (2, 2)))\n",
    "\n",
    "# Camada Convolucional\n",
    "model.add(keras.layers.Conv2D(32, (3,3), input_shape=(nrows, ncols, nchannels), \n",
    "                              use_bias=True, activation='relu'))\n",
    "# Max pooling\n",
    "model.add(keras.layers.MaxPooling2D(pool_size = (2, 2)))\n",
    "\n",
    "# Camada \"flattening\"\n",
    "model.add(keras.layers.Flatten())\n",
    "\n",
    "# Camada Fully Connected\n",
    "model.add(keras.layers.Dense(128, activation='relu'))\n",
    "\n",
    "# Softmax com duas saídas:\n",
    "model.add(keras.layers.Dense(2, activation='softmax'))\n"
   ]
  },
  {
   "cell_type": "code",
   "execution_count": 17,
   "metadata": {
    "scrolled": true
   },
   "outputs": [],
   "source": [
    "# Configurar o método de aprendizado\n",
    "\n",
    "#rms = keras.optimizers.RMSprop(lr=0.0001)\n",
    "#model.compile(loss='binary_crossentropy', optimizer=rms, metrics=['binary_accuracy'])\n",
    "\n",
    "model.compile(optimizer='adam', loss='binary_crossentropy', metrics=['accuracy'])"
   ]
  },
  {
   "cell_type": "code",
   "execution_count": 18,
   "metadata": {
    "scrolled": true
   },
   "outputs": [
    {
     "name": "stdout",
     "output_type": "stream",
     "text": [
      "_________________________________________________________________\n",
      "Layer (type)                 Output Shape              Param #   \n",
      "=================================================================\n",
      "conv2d_1 (Conv2D)            (None, 62, 62, 64)        1792      \n",
      "_________________________________________________________________\n",
      "max_pooling2d_1 (MaxPooling2 (None, 31, 31, 64)        0         \n",
      "_________________________________________________________________\n",
      "conv2d_2 (Conv2D)            (None, 29, 29, 32)        18464     \n",
      "_________________________________________________________________\n",
      "max_pooling2d_2 (MaxPooling2 (None, 14, 14, 32)        0         \n",
      "_________________________________________________________________\n",
      "flatten_1 (Flatten)          (None, 6272)              0         \n",
      "_________________________________________________________________\n",
      "dense_3 (Dense)              (None, 128)               802944    \n",
      "_________________________________________________________________\n",
      "dense_4 (Dense)              (None, 2)                 258       \n",
      "=================================================================\n",
      "Total params: 823,458\n",
      "Trainable params: 823,458\n",
      "Non-trainable params: 0\n",
      "_________________________________________________________________\n",
      "Epoch 1/30\n",
      "209/209 [==============================]209/209 [==============================] - 2s 10ms/step - loss: 0.7360 - acc: 0.5885\n",
      "\n",
      "Epoch 2/30\n",
      "209/209 [==============================]209/209 [==============================] - 2s 8ms/step - loss: 0.5774 - acc: 0.6555\n",
      "\n",
      "Epoch 3/30\n",
      "209/209 [==============================]209/209 [==============================] - 2s 8ms/step - loss: 0.5532 - acc: 0.6507\n",
      "\n",
      "Epoch 4/30\n",
      "209/209 [==============================]209/209 [==============================] - 2s 8ms/step - loss: 0.4787 - acc: 0.7273\n",
      "\n",
      "Epoch 5/30\n",
      "209/209 [==============================]209/209 [==============================] - 2s 8ms/step - loss: 0.4559 - acc: 0.7512\n",
      "\n",
      "Epoch 6/30\n",
      "209/209 [==============================]209/209 [==============================] - 2s 8ms/step - loss: 0.4257 - acc: 0.7895\n",
      "\n",
      "Epoch 7/30\n",
      "209/209 [==============================]209/209 [==============================] - 2s 8ms/step - loss: 0.3745 - acc: 0.8230\n",
      "\n",
      "Epoch 8/30\n",
      "209/209 [==============================]209/209 [==============================] - 2s 8ms/step - loss: 0.4134 - acc: 0.8038\n",
      "\n",
      "Epoch 9/30\n",
      "209/209 [==============================]209/209 [==============================] - 2s 9ms/step - loss: 0.3174 - acc: 0.8565\n",
      "\n",
      "Epoch 10/30\n",
      "209/209 [==============================]209/209 [==============================] - 2s 8ms/step - loss: 0.2738 - acc: 0.8900\n",
      "\n",
      "Epoch 11/30\n",
      "209/209 [==============================]209/209 [==============================] - 2s 8ms/step - loss: 0.2497 - acc: 0.8852\n",
      "\n",
      "Epoch 12/30\n",
      "209/209 [==============================]209/209 [==============================] - 2s 8ms/step - loss: 0.3370 - acc: 0.8373\n",
      "\n",
      "Epoch 13/30\n",
      "209/209 [==============================]209/209 [==============================] - 2s 8ms/step - loss: 0.2485 - acc: 0.9043\n",
      "\n",
      "Epoch 14/30\n",
      "209/209 [==============================]209/209 [==============================] - 2s 8ms/step - loss: 0.2136 - acc: 0.9091\n",
      "\n",
      "Epoch 15/30\n",
      "209/209 [==============================]209/209 [==============================] - 2s 8ms/step - loss: 0.2111 - acc: 0.9043\n",
      "\n",
      "Epoch 16/30\n",
      "209/209 [==============================]209/209 [==============================] - 2s 8ms/step - loss: 0.1664 - acc: 0.9426\n",
      "\n",
      "Epoch 17/30\n",
      "209/209 [==============================]209/209 [==============================] - 2s 8ms/step - loss: 0.1303 - acc: 0.9617\n",
      "\n",
      "Epoch 18/30\n",
      "209/209 [==============================]209/209 [==============================] - 2s 8ms/step - loss: 0.1386 - acc: 0.9474\n",
      "\n",
      "Epoch 19/30\n",
      "209/209 [==============================]209/209 [==============================] - 2s 8ms/step - loss: 0.0915 - acc: 0.9665\n",
      "\n",
      "Epoch 20/30\n",
      "209/209 [==============================]209/209 [==============================] - 2s 8ms/step - loss: 0.0664 - acc: 0.9761\n",
      "\n",
      "Epoch 21/30\n",
      "209/209 [==============================]209/209 [==============================] - 2s 8ms/step - loss: 0.0546 - acc: 0.9856\n",
      "\n",
      "Epoch 22/30\n",
      "209/209 [==============================]209/209 [==============================] - 2s 8ms/step - loss: 0.0290 - acc: 1.0000\n",
      "\n",
      "Epoch 23/30\n",
      "209/209 [==============================]209/209 [==============================] - 2s 8ms/step - loss: 0.0230 - acc: 1.0000\n",
      "\n",
      "Epoch 24/30\n",
      "209/209 [==============================]209/209 [==============================] - 2s 8ms/step - loss: 0.0154 - acc: 1.0000\n",
      "\n",
      "Epoch 25/30\n",
      "209/209 [==============================]209/209 [==============================] - 2s 8ms/step - loss: 0.0115 - acc: 1.0000\n",
      "\n",
      "Epoch 26/30\n",
      "209/209 [==============================]209/209 [==============================] - 2s 8ms/step - loss: 0.0094 - acc: 1.0000\n",
      "\n",
      "Epoch 27/30\n",
      "209/209 [==============================]209/209 [==============================] - 2s 8ms/step - loss: 0.0076 - acc: 1.0000\n",
      "\n",
      "Epoch 28/30\n",
      "209/209 [==============================]209/209 [==============================] - 2s 8ms/step - loss: 0.0077 - acc: 1.0000\n",
      "\n",
      "Epoch 29/30\n",
      "209/209 [==============================]209/209 [==============================] - 2s 8ms/step - loss: 0.0084 - acc: 1.0000\n",
      "\n",
      "Epoch 30/30\n",
      "209/209 [==============================]209/209 [==============================] - 2s 8ms/step - loss: 0.0067 - acc: 1.0000\n",
      "\n"
     ]
    },
    {
     "data": {
      "text/plain": [
       "<tensorflow.python.keras._impl.keras.callbacks.History at 0x7f8f5ac42860>"
      ]
     },
     "execution_count": 18,
     "metadata": {},
     "output_type": "execute_result"
    }
   ],
   "source": [
    "model.summary()\n",
    "model.fit(train_x, train_y_cat, epochs=30)\n"
   ]
  },
  {
   "cell_type": "code",
   "execution_count": 19,
   "metadata": {},
   "outputs": [],
   "source": [
    "# Executa predições com os exemplos do conjunto de teste\n",
    "result = model.predict(test_x)"
   ]
  },
  {
   "cell_type": "code",
   "execution_count": 20,
   "metadata": {
    "scrolled": true
   },
   "outputs": [
    {
     "name": "stdout",
     "output_type": "stream",
     "text": [
      "[[12  5]\n",
      " [ 4 29]]\n",
      "Acurácia:  0.82\n"
     ]
    }
   ],
   "source": [
    "# Teste de acurácia / Confusion Matrix\n",
    "# Conjunto de Teste\n",
    "\n",
    "y_true = test_y[0,:]\n",
    "y_test = np.round(result[:,1])\n",
    "cm = confusion_matrix(y_true, y_test)\n",
    "print(cm)\n",
    "acc = (cm[0,0] + cm[1,1]) / np.sum(cm)\n",
    "print(\"Acurácia: \",acc)"
   ]
  },
  {
   "cell_type": "markdown",
   "metadata": {},
   "source": [
    "## Classificação das imagens"
   ]
  },
  {
   "cell_type": "markdown",
   "metadata": {},
   "source": [
    "Informar o número de uma imagem e executar o código na célula abaixo:"
   ]
  },
  {
   "cell_type": "code",
   "execution_count": 27,
   "metadata": {},
   "outputs": [
    {
     "name": "stdout",
     "output_type": "stream",
     "text": [
      "AxesImage(54,36;334.8x217.44)\n",
      "Cat:  0 %   Non cat:  100 %\n"
     ]
    },
    {
     "data": {
      "image/png": "[encoded data removed]",
      "text/plain": [
       "<matplotlib.figure.Figure at 0x7f8f4cf3c240>"
      ]
     },
     "metadata": {},
     "output_type": "display_data"
    }
   ],
   "source": [
    "imagem = 14\n",
    "test = plt.imshow(test_x[imagem])\n",
    "print(test)\n",
    "print(\"Cat: \",int(result[imagem,1]*100),\"%   Non cat: \", int(result[imagem,0]*100),\"%\" )\n"
   ]
  },
  {
   "cell_type": "code",
   "execution_count": null,
   "metadata": {},
   "outputs": [],
   "source": []
  }
 ],
 "metadata": {
  "kernelspec": {
   "display_name": "Python 3",
   "language": "python",
   "name": "python3"
  },
  "language_info": {
   "codemirror_mode": {
    "name": "ipython",
    "version": 3
   },
   "file_extension": ".py",
   "mimetype": "text/x-python",
   "name": "python",
   "nbconvert_exporter": "python",
   "pygments_lexer": "ipython3",
   "version": "3.5.3"
  }
 },
 "nbformat": 4,
 "nbformat_minor": 2
}
